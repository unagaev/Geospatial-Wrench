{
 "cells": [
  {
   "cell_type": "code",
   "execution_count": 29,
   "id": "aea03fc2",
   "metadata": {
    "scrolled": true
   },
   "outputs": [],
   "source": [
    "import json\n",
    "import math\n",
    "import requests\n",
    "from gdal import ogr\n",
    "from shapely.geometry import Point, MultiPoint, Polygon, mapping\n",
    "import geopandas\n",
    "import rasterio\n",
    "import matplotlib.pyplot as plt\n",
    "import numpy as np\n",
    "import ast"
   ]
  },
  {
   "cell_type": "markdown",
   "id": "03348af5",
   "metadata": {},
   "source": [
    "### --- Climate Data Store (CDS) ---\n",
    "https://cds.climate.copernicus.eu/cdsapp#!/home"
   ]
  },
  {
   "cell_type": "code",
   "execution_count": 23,
   "id": "7b0ad25c",
   "metadata": {},
   "outputs": [
    {
     "name": "stderr",
     "output_type": "stream",
     "text": [
      "C:\\ProgramData\\Anaconda3\\lib\\site-packages\\urllib3\\connectionpool.py:981: InsecureRequestWarning: Unverified HTTPS request is being made to host 'cds.climate.copernicus.eu'. Adding certificate verification is strongly advised. See: https://urllib3.readthedocs.io/en/latest/advanced-usage.html#ssl-warnings\n",
      "  warnings.warn(\n",
      "2023-03-29 23:26:55,992 INFO Welcome to the CDS\n",
      "2023-03-29 23:26:55,995 INFO Sending request to https://cds.climate.copernicus.eu/api/v2/resources/reanalysis-era5-land\n",
      "C:\\ProgramData\\Anaconda3\\lib\\site-packages\\urllib3\\connectionpool.py:981: InsecureRequestWarning: Unverified HTTPS request is being made to host 'cds.climate.copernicus.eu'. Adding certificate verification is strongly advised. See: https://urllib3.readthedocs.io/en/latest/advanced-usage.html#ssl-warnings\n",
      "  warnings.warn(\n",
      "2023-03-29 23:26:56,224 INFO Request is completed\n",
      "2023-03-29 23:26:56,224 INFO Downloading https://download-0008-clone.copernicus-climate.eu/cache-compute-0008/cache/data4/adaptor.mars.internal-1680094137.4640117-15473-6-71a96827-47d5-4878-83fb-838134cde1de.nc to download.nc (1.3K)\n",
      "C:\\ProgramData\\Anaconda3\\lib\\site-packages\\urllib3\\connectionpool.py:981: InsecureRequestWarning: Unverified HTTPS request is being made to host 'download-0008-clone.copernicus-climate.eu'. Adding certificate verification is strongly advised. See: https://urllib3.readthedocs.io/en/latest/advanced-usage.html#ssl-warnings\n",
      "  warnings.warn(\n",
      "2023-03-29 23:26:56,675 INFO Download rate 2.8K/s                                                                      \n"
     ]
    },
    {
     "data": {
      "text/plain": [
       "Result(content_length=1308,content_type=application/x-netcdf,location=https://download-0008-clone.copernicus-climate.eu/cache-compute-0008/cache/data4/adaptor.mars.internal-1680094137.4640117-15473-6-71a96827-47d5-4878-83fb-838134cde1de.nc)"
      ]
     },
     "execution_count": 23,
     "metadata": {},
     "output_type": "execute_result"
    }
   ],
   "source": [
    "#https://cds.climate.copernicus.eu/cdsapp#!/dataset/reanalysis-era5-land?tab=overview\n",
    "#https://cds.climate.copernicus.eu/api-how-to\n",
    "#requires specifying the certificate\n",
    "\n",
    "import cdsapi\n",
    "\n",
    "c = cdsapi.Client()\n",
    "\n",
    "c.retrieve(\n",
    "    'reanalysis-era5-land',\n",
    "    {\n",
    "        'variable': 'total_evaporation',\n",
    "        'year': '2021',\n",
    "        'month': '05',\n",
    "        'day': '15',\n",
    "        'time': '14:00',\n",
    "        'area': [\n",
    "            40.26, 43.84, 39.81,\n",
    "            44.68,\n",
    "        ],\n",
    "        'format': 'netcdf',\n",
    "    },\n",
    "    'download.nc')"
   ]
  },
  {
   "cell_type": "markdown",
   "id": "72455b5f",
   "metadata": {},
   "source": [
    "### --- Soilgrids ---\n",
    "https://soilgrids.org/"
   ]
  },
  {
   "cell_type": "code",
   "execution_count": 33,
   "id": "df49988e",
   "metadata": {},
   "outputs": [],
   "source": [
    "test = ogr.Open(r'C:\\Users\\rost8\\OneDrive\\Desktop\\DP National Trust Tasks/Boundary National Trust Land Cover.geojson')\n",
    "in_layer = test.GetLayer()\n"
   ]
  },
  {
   "cell_type": "code",
   "execution_count": 35,
   "id": "f4a123cb",
   "metadata": {},
   "outputs": [
    {
     "ename": "NameError",
     "evalue": "name 'ext' is not defined",
     "output_type": "error",
     "traceback": [
      "\u001b[1;31m---------------------------------------------------------------------------\u001b[0m",
      "\u001b[1;31mNameError\u001b[0m                                 Traceback (most recent call last)",
      "\u001b[1;32m~\\AppData\\Local\\Temp\\ipykernel_19460\\1636342033.py\u001b[0m in \u001b[0;36m<module>\u001b[1;34m\u001b[0m\n\u001b[0;32m      1\u001b[0m \u001b[0mshp_ulx\u001b[0m\u001b[1;33m,\u001b[0m \u001b[0mshp_lrx\u001b[0m\u001b[1;33m,\u001b[0m \u001b[0mshp_lry\u001b[0m\u001b[1;33m,\u001b[0m \u001b[0mshp_uly\u001b[0m \u001b[1;33m=\u001b[0m \u001b[0min_layer\u001b[0m\u001b[1;33m.\u001b[0m\u001b[0mGetExtent\u001b[0m\u001b[1;33m(\u001b[0m\u001b[1;33m)\u001b[0m\u001b[1;33m\u001b[0m\u001b[1;33m\u001b[0m\u001b[0m\n\u001b[1;32m----> 2\u001b[1;33m \u001b[0mshp_res\u001b[0m \u001b[1;33m=\u001b[0m \u001b[0mext\u001b[0m\u001b[1;33m[\u001b[0m\u001b[1;36m1\u001b[0m\u001b[1;33m]\u001b[0m\u001b[1;33m\u001b[0m\u001b[1;33m\u001b[0m\u001b[0m\n\u001b[0m\u001b[0;32m      3\u001b[0m \u001b[1;31m# Set the need pixel extent of your future raster mask, according to the image resolution\u001b[0m\u001b[1;33m\u001b[0m\u001b[1;33m\u001b[0m\u001b[0m\n\u001b[0;32m      4\u001b[0m \u001b[0mmask_ncol\u001b[0m \u001b[1;33m=\u001b[0m \u001b[0mround\u001b[0m\u001b[1;33m(\u001b[0m\u001b[1;33m(\u001b[0m\u001b[0mshp_lrx\u001b[0m \u001b[1;33m-\u001b[0m \u001b[0mshp_ulx\u001b[0m\u001b[1;33m)\u001b[0m\u001b[1;33m/\u001b[0m\u001b[0mshp_res\u001b[0m\u001b[1;33m)\u001b[0m\u001b[1;33m\u001b[0m\u001b[1;33m\u001b[0m\u001b[0m\n\u001b[0;32m      5\u001b[0m \u001b[0mmask_nrow\u001b[0m \u001b[1;33m=\u001b[0m \u001b[0mround\u001b[0m\u001b[1;33m(\u001b[0m\u001b[1;33m(\u001b[0m\u001b[0mshp_uly\u001b[0m \u001b[1;33m-\u001b[0m \u001b[0mshp_lry\u001b[0m\u001b[1;33m)\u001b[0m\u001b[1;33m/\u001b[0m\u001b[0mshp_res\u001b[0m\u001b[1;33m)\u001b[0m\u001b[1;33m\u001b[0m\u001b[1;33m\u001b[0m\u001b[0m\n",
      "\u001b[1;31mNameError\u001b[0m: name 'ext' is not defined"
     ]
    }
   ],
   "source": [
    "shp_ulx, shp_lrx, shp_lry, shp_uly = in_layer.GetExtent()\n",
    "shp_res = ext[1]\n",
    "# Set the need pixel extent of your future raster mask, according to the image resolution\n",
    "mask_ncol = round((shp_lrx - shp_ulx)/shp_res)\n",
    "mask_nrow = round((shp_uly - shp_lry)/shp_res)\n",
    "# Set the upper-left corner coordinates and a resolution of your future raster mask: y with minus sign\n",
    "mask_ext = ulx, xres, uls, uly, lrs, yres = (shp_ulx, shp_res, 0.0, shp_uly, 0.0, -shp_res)\n",
    "lrx = ulx + (mask_ncol * xres)\n",
    "lry = uly + (mask_nrow * yres)\n",
    "bbox = (ulx, uly, lrx, lry)"
   ]
  },
  {
   "cell_type": "code",
   "execution_count": null,
   "id": "8e39ea58",
   "metadata": {},
   "outputs": [],
   "source": [
    "res = 250\n",
    "cols, rows = ..."
   ]
  },
  {
   "cell_type": "code",
   "execution_count": 28,
   "id": "23d10a18",
   "metadata": {
    "scrolled": false
   },
   "outputs": [],
   "source": [
    "# Reprojection to wgs84 required\n",
    "# Use SoilGrids().map_services to get the list of soil parameters (service_id) and SoilGrids().get_coverage_list to get the list of layers within the parameter (coverage_id)\n",
    "\"\"\"\n",
    "The soil class from the returned tif value is according to the python index of the list below - begins from 0\n",
    "wrb_soil_classes = [Acrisols, Albeluvisols, Alisols, Andosols, Arenosols, Calcisols, \n",
    "                    Cambisols, Chernozems, Cryosols, Durisols, Ferralsols, Fluvisols, \n",
    "                    Gleysols, Gypsisols, Histosols, Kastanozems, Leptosols, Lixisols, \n",
    "                    Luvisols, Nitisols, Phaeozems, Planosols, Plinthosols, Podzols, \n",
    "                    Regosols, Solonchaks, Solonetz, Stagnosols, Umbrisols, Vertisols]\n",
    "\"\"\"\n",
    "from soilgrids import SoilGrids\n",
    "\n",
    "\n",
    "\n",
    "soil_grids = SoilGrids()\n",
    "SoilGrids()\n",
    "param = []\n",
    "data = soil_grids.get_coverage_data(service_id='soc', coverage_id='soc_5-15cm_mean', \n",
    "                                       west=lyr_ext[0], south=lyr_ext[2], east=lyr_ext[1], north=lyr_ext[3],  width=1000, height=1000, \n",
    "                                       crs='urn:ogc:def:crs:EPSG::4326',output='soilgrid_NT_soc_5-15cm_mean.tif')\n",
    "\n",
    "### insert the calculation of the size of a picture using conversion of coordinates to pixels\n",
    "### insert the cropping the image using shapefile"
   ]
  },
  {
   "cell_type": "code",
   "execution_count": 26,
   "id": "57f14050",
   "metadata": {
    "scrolled": true
   },
   "outputs": [
    {
     "ename": "Exception",
     "evalue": "WCS sever error \n<?xml version='1.0' encoding=\"UTF-8\" ?>\n<ServiceExceptionReport version=\"1.2.0\"\nxmlns=\"http://www.opengis.net/ogc\" xmlns:xsi=\"http://www.w3.org/2001/XMLSchema-instance\" xsi:schemaLocation=\"http://www.opengis.net/ogc http://schemas.opengis.net/wcs/1.0.0/OGC-exception.xsd\">\n  <ServiceException>msImageCreate(): Image handling error. Attempt to allocate raw image failed, out of memory.\n  </ServiceException>\n</ServiceExceptionReport>\n",
     "output_type": "error",
     "traceback": [
      "\u001b[1;31m---------------------------------------------------------------------------\u001b[0m",
      "\u001b[1;31mException\u001b[0m                                 Traceback (most recent call last)",
      "\u001b[1;32m~\\AppData\\Local\\Temp\\ipykernel_19460\\2080488256.py\u001b[0m in \u001b[0;36m<module>\u001b[1;34m\u001b[0m\n\u001b[0;32m      2\u001b[0m \u001b[1;33m\u001b[0m\u001b[0m\n\u001b[0;32m      3\u001b[0m \u001b[0msoil_grids\u001b[0m \u001b[1;33m=\u001b[0m \u001b[0mSoilGrids\u001b[0m\u001b[1;33m(\u001b[0m\u001b[1;33m)\u001b[0m\u001b[1;33m\u001b[0m\u001b[1;33m\u001b[0m\u001b[0m\n\u001b[1;32m----> 4\u001b[1;33m data = soil_grids.get_coverage_data(service_id='soc', coverage_id='soc_5-15cm_mean', \n\u001b[0m\u001b[0;32m      5\u001b[0m                                        \u001b[0mwest\u001b[0m\u001b[1;33m=\u001b[0m\u001b[0mlyr_ext\u001b[0m\u001b[1;33m[\u001b[0m\u001b[1;36m0\u001b[0m\u001b[1;33m]\u001b[0m\u001b[1;33m,\u001b[0m \u001b[0msouth\u001b[0m\u001b[1;33m=\u001b[0m\u001b[0mlyr_ext\u001b[0m\u001b[1;33m[\u001b[0m\u001b[1;36m2\u001b[0m\u001b[1;33m]\u001b[0m\u001b[1;33m,\u001b[0m \u001b[0meast\u001b[0m\u001b[1;33m=\u001b[0m\u001b[0mlyr_ext\u001b[0m\u001b[1;33m[\u001b[0m\u001b[1;36m1\u001b[0m\u001b[1;33m]\u001b[0m\u001b[1;33m,\u001b[0m \u001b[0mnorth\u001b[0m\u001b[1;33m=\u001b[0m\u001b[0mlyr_ext\u001b[0m\u001b[1;33m[\u001b[0m\u001b[1;36m3\u001b[0m\u001b[1;33m]\u001b[0m\u001b[1;33m,\u001b[0m\u001b[1;33m\u001b[0m\u001b[1;33m\u001b[0m\u001b[0m\n\u001b[0;32m      6\u001b[0m                                        crs='urn:ogc:def:crs:EPSG::152160',output='soilgrid_NT_soc_5-15cm_mean.tif')\n",
      "\u001b[1;32mC:\\ProgramData\\Anaconda3\\lib\\site-packages\\soilgrids\\soilgrids.py\u001b[0m in \u001b[0;36mget_coverage_data\u001b[1;34m(self, service_id, coverage_id, crs, west, south, east, north, output, resx, resy, width, height, response_crs, local_file)\u001b[0m\n\u001b[0;32m    182\u001b[0m             \u001b[1;32melse\u001b[0m\u001b[1;33m:\u001b[0m\u001b[1;33m\u001b[0m\u001b[1;33m\u001b[0m\u001b[0m\n\u001b[0;32m    183\u001b[0m                 \u001b[0merror_info\u001b[0m \u001b[1;33m=\u001b[0m \u001b[0mresponse\u001b[0m\u001b[1;33m.\u001b[0m\u001b[0mread\u001b[0m\u001b[1;33m(\u001b[0m\u001b[1;33m)\u001b[0m\u001b[1;33m.\u001b[0m\u001b[0mdecode\u001b[0m\u001b[1;33m(\u001b[0m\u001b[1;34m'utf-8'\u001b[0m\u001b[1;33m)\u001b[0m\u001b[1;33m\u001b[0m\u001b[1;33m\u001b[0m\u001b[0m\n\u001b[1;32m--> 184\u001b[1;33m                 \u001b[1;32mraise\u001b[0m \u001b[0mException\u001b[0m\u001b[1;33m(\u001b[0m\u001b[1;34m'WCS sever error \\n{}'\u001b[0m\u001b[1;33m.\u001b[0m\u001b[0mformat\u001b[0m\u001b[1;33m(\u001b[0m\u001b[0merror_info\u001b[0m\u001b[1;33m)\u001b[0m\u001b[1;33m)\u001b[0m\u001b[1;33m\u001b[0m\u001b[1;33m\u001b[0m\u001b[0m\n\u001b[0m\u001b[0;32m    185\u001b[0m \u001b[1;33m\u001b[0m\u001b[0m\n\u001b[0;32m    186\u001b[0m         \u001b[1;31m# open data\u001b[0m\u001b[1;33m\u001b[0m\u001b[1;33m\u001b[0m\u001b[0m\n",
      "\u001b[1;31mException\u001b[0m: WCS sever error \n<?xml version='1.0' encoding=\"UTF-8\" ?>\n<ServiceExceptionReport version=\"1.2.0\"\nxmlns=\"http://www.opengis.net/ogc\" xmlns:xsi=\"http://www.w3.org/2001/XMLSchema-instance\" xsi:schemaLocation=\"http://www.opengis.net/ogc http://schemas.opengis.net/wcs/1.0.0/OGC-exception.xsd\">\n  <ServiceException>msImageCreate(): Image handling error. Attempt to allocate raw image failed, out of memory.\n  </ServiceException>\n</ServiceExceptionReport>\n"
     ]
    }
   ],
   "source": [
    "from soilgrids import SoilGrids\n",
    "\n",
    "soil_grids = SoilGrids()\n",
    "data = soil_grids.get_coverage_data(service_id='soc', coverage_id='soc_5-15cm_mean', \n",
    "                                       west=lyr_ext[0], south=lyr_ext[2], east=lyr_ext[1], north=lyr_ext[3], \n",
    "                                       crs='urn:ogc:def:crs:EPSG::152160',output='soilgrid_NT_soc_5-15cm_mean.tif')"
   ]
  },
  {
   "cell_type": "code",
   "execution_count": 10,
   "id": "b59073c3",
   "metadata": {},
   "outputs": [
    {
     "name": "stdout",
     "output_type": "stream",
     "text": [
      "service id: bdod \n",
      "variable name: Bulk density \n",
      "service link: https://maps.isric.org/mapserv?map=/map/bdod.map\n",
      "\n",
      "service id: cec \n",
      "variable name: Citation exchange capacity at ph7 \n",
      "service link: https://maps.isric.org/mapserv?map=/map/cec.map\n",
      "\n",
      "service id: cfvo \n",
      "variable name: Coarse fragments volumetric \n",
      "service link: https://maps.isric.org/mapserv?map=/map/cfvo.map\n",
      "\n",
      "service id: clay \n",
      "variable name: Clay content \n",
      "service link: https://maps.isric.org/mapserv?map=/map/clay.map\n",
      "\n",
      "service id: nitrogen \n",
      "variable name: Nitrogen \n",
      "service link: https://maps.isric.org/mapserv?map=/map/nitrogen.map\n",
      "\n",
      "service id: phh2o \n",
      "variable name: Soil pH in H2O \n",
      "service link: https://maps.isric.org/mapserv?map=/map/phh2o.map\n",
      "\n",
      "service id: sand \n",
      "variable name: Sand content \n",
      "service link: https://maps.isric.org/mapserv?map=/map/sand.map\n",
      "\n",
      "service id: silt \n",
      "variable name: Silt content \n",
      "service link: https://maps.isric.org/mapserv?map=/map/silt.map\n",
      "\n",
      "service id: soc \n",
      "variable name: Soil organic carbon content \n",
      "service link: https://maps.isric.org/mapserv?map=/map/soc.map\n",
      "\n",
      "service id: ocs \n",
      "variable name: Soil organic carbon stock \n",
      "service link: https://maps.isric.org/mapserv?map=/map/ocs.map\n",
      "\n",
      "service id: ocd \n",
      "variable name: Organic carbon densities \n",
      "service link: https://maps.isric.org/mapserv?map=/map/ocd.map\n",
      "\n",
      "service id: wrb \n",
      "variable name: WRB classes and probabilites \n",
      "service link: https://maps.isric.org/mapserv?map=/map/wrb.map\n",
      "\n"
     ]
    },
    {
     "ename": "TypeError",
     "evalue": "'NoneType' object is not subscriptable",
     "output_type": "error",
     "traceback": [
      "\u001b[1;31m---------------------------------------------------------------------------\u001b[0m",
      "\u001b[1;31mTypeError\u001b[0m                                 Traceback (most recent call last)",
      "\u001b[1;32m~\\AppData\\Local\\Temp\\ipykernel_19460\\1306093854.py\u001b[0m in \u001b[0;36m<module>\u001b[1;34m\u001b[0m\n\u001b[0;32m      1\u001b[0m \u001b[1;32mfrom\u001b[0m \u001b[0msoilgrids\u001b[0m \u001b[1;32mimport\u001b[0m \u001b[0mSoilGrids\u001b[0m\u001b[1;33m\u001b[0m\u001b[1;33m\u001b[0m\u001b[0m\n\u001b[1;32m----> 2\u001b[1;33m \u001b[0msrc\u001b[0m \u001b[1;33m=\u001b[0m \u001b[0mSoilGrids\u001b[0m\u001b[1;33m(\u001b[0m\u001b[1;33m)\u001b[0m\u001b[1;33m.\u001b[0m\u001b[0mmap_services\u001b[0m\u001b[1;33m[\u001b[0m\u001b[1;36m0\u001b[0m\u001b[1;33m]\u001b[0m\u001b[1;33m\u001b[0m\u001b[1;33m\u001b[0m\u001b[0m\n\u001b[0m",
      "\u001b[1;31mTypeError\u001b[0m: 'NoneType' object is not subscriptable"
     ]
    }
   ],
   "source": [
    "from soilgrids import SoilGrids\n",
    "src = SoilGrids().map_services"
   ]
  },
  {
   "cell_type": "code",
   "execution_count": 44,
   "id": "895ba33b",
   "metadata": {
    "scrolled": true
   },
   "outputs": [
    {
     "data": {
      "text/plain": [
       "<matplotlib.image.AxesImage at 0x25c582296a0>"
      ]
     },
     "execution_count": 44,
     "metadata": {},
     "output_type": "execute_result"
    },
    {
     "data": {
      "image/png": "[encoded data removed]",
      "text/plain": [
       "<Figure size 432x288 with 1 Axes>"
      ]
     },
     "metadata": {
      "needs_background": "light"
     },
     "output_type": "display_data"
    }
   ],
   "source": [
    "plt.imshow(data[0])"
   ]
  },
  {
   "cell_type": "markdown",
   "id": "4fc2215e",
   "metadata": {},
   "source": [
    "### --- Soil and Landscape Grids for Australia ---\n",
    "https://esoil.io/TERNLandscapes/Public/Pages/SLGA/"
   ]
  },
  {
   "cell_type": "code",
   "execution_count": 46,
   "id": "202915d3",
   "metadata": {},
   "outputs": [],
   "source": [
    "#The url for requesting of the value by pair of coordinates for a single location\n",
    "y = requests.get('https://esoil.io/TERNLandscapes/RasterProductsAPI/Drill?format=json&verbose=false&COGPath=https://esoil.io/TERNLandscapes/Public/Products/TERN/SLGA/30m/SOC/SOC_030_060_05_N_P_AU_TRN_N_20220727_30m.tif&latitude=-27&longitude=150')\n",
    "#y = requests.get(f'https://esoil.io/TERNLandscapes/RasterProductsAPI/Drill?format=json&verbose=false&COGPath=https://esoil.io/TERNLandscapes/Public/Products/TERN/SLGA/30m/SOC/SOC_030_060_05_N_P_AU_TRN_N_20220727_30m.tif&latitude={-34.14314240028746}&longitude={139.94172243585845}')"
   ]
  },
  {
   "cell_type": "code",
   "execution_count": 2,
   "id": "bdb209e2",
   "metadata": {},
   "outputs": [],
   "source": [
    "#Testing of an image generation on a basis of single requests for SLGA for a polygon\n",
    "\"\"\"\n",
    "ul = [139.93768, -34.1398]\n",
    "ur = [139.94028, -34.1391]\n",
    "lr = [139.94246, -34.1439]\n",
    "ll = [139.93952, -34.14462]\n",
    "\"\"\"\n",
    "\n",
    "ul = [139, -34]\n",
    "ur = [139.1, -34]\n",
    "lr = [139.1, -34.1]\n",
    "ll = [139, -34.1]\n",
    "\n",
    "\n",
    "poly = Polygon([ul, ur, lr, ll])\n",
    "polygon = geopandas.GeoSeries([poly ]).__geo_interface__\n",
    "with open('mygeojson.geojson', 'w') as f:\n",
    "    json.dump(polygon, f)\n",
    "    \n",
    "test_geo1 = ogr.Open('mygeojson.geojson')\n",
    "in_layer = test_geo1.GetLayer()\n",
    "ext = in_layer.GetExtent()"
   ]
  },
  {
   "cell_type": "code",
   "execution_count": 3,
   "id": "87eb5e28",
   "metadata": {
    "scrolled": false
   },
   "outputs": [],
   "source": [
    "#Boundaries of a new image\n",
    "dd_width = ext[1] - ext[0]\n",
    "width = 40075 * 1000 * (ext[1] - ext[0]) * math.cos((ext[3] - ext[2])/2)/360\n",
    "dd_height = ext[3] - ext[2]\n",
    "height  = (ext[3] - ext[2])*111.32*1000\n",
    "#Set 90/30 m for Australian TERN data or 250 m for Soilgrid data\n",
    "w_step = dd_width * (250/width)\n",
    "h_step = dd_height * (250/height)\n",
    "w_cols = dd_width/w_step\n",
    "h_cols = dd_width/h_step"
   ]
  },
  {
   "cell_type": "code",
   "execution_count": 66,
   "id": "b7e925db",
   "metadata": {},
   "outputs": [],
   "source": [
    "#requesting all values within the bbox: test for image generation of Aus soil grid data\n",
    "l = []\n",
    "for i in range(round(w_cols)): \n",
    "    for j in range(round(h_cols)):\n",
    "        row = (ext[0]+j*w_step,  ext[3]-i*h_step)\n",
    "        l.append(row)\n",
    "\n",
    "l1 = []        \n",
    "for i in l:\n",
    "    y = requests.get(f'https://esoil.io/TERNLandscapes/RasterProductsAPI/Drill?format=json&verbose=false&COGPath=https://esoil.io/TERNLandscapes/Public/Products/TERN/SLGA/30m/SOC/SOC_030_060_05_N_P_AU_TRN_N_20220727_30m.tif&latitude={i[1]}&longitude={i[0]}')\n",
    "    l1.append(ast.literal_eval(y.content.decode())[0]['Value'])"
   ]
  },
  {
   "cell_type": "code",
   "execution_count": 4,
   "id": "a79a0158",
   "metadata": {},
   "outputs": [],
   "source": [
    "#OR: requesting all values within the bbox: test for image generation of soilgrid data\n",
    "l = []\n",
    "for i in range(round(w_cols)): \n",
    "    for j in range(round(h_cols)):\n",
    "        row = (ext[0]+j*w_step,  ext[3]-i*h_step)\n",
    "        l.append(row)\n",
    "\n",
    "l1 = []\n",
    "props = {\"property\":\"silt\",\"depth\":\"0-5cm\",\"value\":\"mean\"}\n",
    "for i in l:\n",
    "\n",
    "    p1={\"lat\":i[1],\"lon\":i[0]}\n",
    "    y = requests.get(f\"https://rest.isric.org/soilgrids/v2.0/properties/query\", params={**p1 , **props})\n",
    "    l1.append(y.json()['properties'][\"layers\"][0][\"depths\"][0][\"values\"]['mean'])"
   ]
  },
  {
   "cell_type": "code",
   "execution_count": 42,
   "id": "3a7db698",
   "metadata": {
    "scrolled": true
   },
   "outputs": [],
   "source": [
    "slga_vals = np.array(l1).reshape(round(w_cols), round(h_cols))"
   ]
  },
  {
   "cell_type": "code",
   "execution_count": 22,
   "id": "accb82b3",
   "metadata": {},
   "outputs": [],
   "source": [
    "# Exporting the final tif\n",
    "# Set the correct coordinates of the bounding box!\n",
    "transform = rasterio.transform.from_bounds(139, -34.1, 139.1, -34, slga_vals.shape[0], slga_vals.shape[1])\n",
    "\n",
    "with rasterio.open(r'soil grids.tif', 'w', driver='GTiff', # soil grids\n",
    "                   width=slga_vals.shape[0], height=slga_vals.shape[1],\n",
    "                   count=1, dtype=slga_vals.astype(float).dtype, nodata=0,\n",
    "                   transform=transform) as dst:\n",
    "    dst.write(slga_vals, indexes=1)"
   ]
  },
  {
   "cell_type": "code",
   "execution_count": 17,
   "id": "68710613",
   "metadata": {},
   "outputs": [
    {
     "data": {
      "text/plain": [
       "<matplotlib.image.AxesImage at 0x272a3a0d8e0>"
      ]
     },
     "execution_count": 17,
     "metadata": {},
     "output_type": "execute_result"
    },
    {
     "data": {
      "image/png": "[encoded data removed]",
      "text/plain": [
       "<Figure size 432x288 with 1 Axes>"
      ]
     },
     "metadata": {
      "needs_background": "light"
     },
     "output_type": "display_data"
    }
   ],
   "source": [
    "plt.imshow(slga_vals.astype(float))"
   ]
  },
  {
   "cell_type": "markdown",
   "id": "b8a282cd",
   "metadata": {},
   "source": [
    "### --- OpenTopography --- (DEM)\n",
    "https://opentopography.org/"
   ]
  },
  {
   "cell_type": "code",
   "execution_count": 27,
   "id": "b216027a",
   "metadata": {},
   "outputs": [],
   "source": [
    "#The commands for requesting the values of the global elevation parameter for a single location. NB: no data for urban areas\n",
    "#https://portal.opentopography.org/apidocs/#/Public/getGlobalDem\n",
    "\n",
    "OT_Api_Key = 'demoapikeyot2022'\n",
    "north, west, south, east = [-34, 140.4, -34.1, 140.5]\n",
    "demtype = 'SRTMGL1'\n",
    "\n",
    "rest_url = f\"https://portal.opentopography.org/API/globaldem?demtype={demtype}&south={south}&north={north}&west={west}&east={east}&outputFormat=GTiff&API_Key={OT_Api_Key}\"\n",
    "\n",
    "x = requests.get(rest_url)"
   ]
  },
  {
   "cell_type": "code",
   "execution_count": 41,
   "id": "9f479de1",
   "metadata": {},
   "outputs": [],
   "source": [
    "with open('DEM_test.tif', 'wb') as f:\n",
    "    f.write(x.content)"
   ]
  },
  {
   "cell_type": "markdown",
   "id": "6b520ca8",
   "metadata": {},
   "source": [
    "###  --- USDA Cropland layer ---\n",
    "https://www.nass.usda.gov/Research_and_Science/Cropland/SARS1a.php"
   ]
  },
  {
   "cell_type": "code",
   "execution_count": null,
   "id": "787cb9a1",
   "metadata": {},
   "outputs": [],
   "source": [
    "# https://nassgeodata.gmu.edu/CropScape/devhelp/help.html\n",
    "# Example and the link for GET requests\n",
    "x = requests.get('https://nassgeodata.gmu.edu/axis2/services/CDLService/GetCDLValue?year=2019&x=1551565.363&y=1909363.537')\n",
    "print(x.status_code)"
   ]
  },
  {
   "cell_type": "code",
   "execution_count": 3,
   "id": "2ba54a93",
   "metadata": {},
   "outputs": [],
   "source": [
    "year = '2008'\n",
    "l = []\n",
    "#All input coordinates must be in the projection of USA Contiguous Albers Equal Area Conic (USGS version), units - meters\n",
    "pts = [(-1194827.99, 2833352.516),(-1176486.362,2292837.29),(610035.2881, 1591114.615),(642333.1021, 1587698.91)]\n",
    "for i in pts:\n",
    "    x = requests.get(f'https://nassgeodata.gmu.edu/axis2/services/CDLService/GetCDLValue?year={year}&x={i[0]}&y={i[1]}')\n",
    "    l.append([x.content])"
   ]
  }
 ],
 "metadata": {
  "kernelspec": {
   "display_name": "Python 3 (ipykernel)",
   "language": "python",
   "name": "python3"
  },
  "language_info": {
   "codemirror_mode": {
    "name": "ipython",
    "version": 3
   },
   "file_extension": ".py",
   "mimetype": "text/x-python",
   "name": "python",
   "nbconvert_exporter": "python",
   "pygments_lexer": "ipython3",
   "version": "3.9.7"
  }
 },
 "nbformat": 4,
 "nbformat_minor": 5
}
