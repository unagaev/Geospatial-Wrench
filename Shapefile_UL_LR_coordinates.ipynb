{
 "cells": [
  {
   "cell_type": "code",
   "execution_count": null,
   "id": "285e2ecc",
   "metadata": {},
   "outputs": [],
   "source": [
    "# Code to check the spatial extent of your shapefile and write it into a json\n",
    "import os\n",
    "import json\n",
    "from osgeo import ogr"
   ]
  },
  {
   "cell_type": "code",
   "execution_count": null,
   "id": "579b954d",
   "metadata": {},
   "outputs": [],
   "source": [
    "\"\"\"\n",
    "Set the path to the folder with your vector files\n",
    "\"\"\"\n",
    "md_folder = r'C:\\Deepplanet\\Projects\\Crops\\Vineyards\\Vineyards_other_australia\\Riverine_Vineyards\\Riverina_new_masks/shp/'\n",
    "d = {}\n",
    "for i in os.listdir(md_folder):\n",
    "    if i.endswith('.geojson') or i.endswith('.shp'):\n",
    "        \n",
    "        input_shp = ogr.Open(md_folder + i)\n",
    "        in_layer = input_shp.GetLayer()\n",
    "        in_layer.GetExtent()\n",
    "        ext = [(in_layer.GetExtent()[0], in_layer.GetExtent()[3]), (in_layer.GetExtent()[1], in_layer.GetExtent()[2])]\n",
    "        d[os.path.split(input_shp.GetDescription())[1]] = ext\n",
    "\n",
    "with open(md_folder+f'MD_AOI.json', 'w', encoding='utf-8') as md:\n",
    "    json.dump(d, md, ensure_ascii=False, indent=4)\n",
    "    \n",
    "f = open(md_folder+f'MD_AOI.json')\n",
    "d = json.load(f)"
   ]
  },
  {
   "cell_type": "code",
   "execution_count": null,
   "id": "7612051a",
   "metadata": {},
   "outputs": [],
   "source": [
    "d"
   ]
  }
 ],
 "metadata": {
  "kernelspec": {
   "display_name": "Python 3 (ipykernel)",
   "language": "python",
   "name": "python3"
  },
  "language_info": {
   "codemirror_mode": {
    "name": "ipython",
    "version": 3
   },
   "file_extension": ".py",
   "mimetype": "text/x-python",
   "name": "python",
   "nbconvert_exporter": "python",
   "pygments_lexer": "ipython3",
   "version": "3.9.7"
  }
 },
 "nbformat": 4,
 "nbformat_minor": 5
}
