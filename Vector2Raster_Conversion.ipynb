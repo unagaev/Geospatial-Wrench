{
 "cells": [
  {
   "cell_type": "code",
   "execution_count": 1,
   "metadata": {
    "scrolled": true
   },
   "outputs": [],
   "source": [
    "import os\n",
    "import glob\n",
    "#import matplotlib.pyplot as plt\n",
    "from osgeo import gdal, ogr, osr"
   ]
  },
  {
   "cell_type": "code",
   "execution_count": null,
   "metadata": {},
   "outputs": [],
   "source": [
    "\n",
    "md_folder = r'path_to_your_images/'\n",
    "if not os.path.exists(md_folder):\n",
    "    os.makedirs(img_folder)\n",
    "shp_chunk_folder = md_folder + 'shp_chunks/'\n",
    "if not os.path.exists(shp_chunk_folder):    \n",
    "    os.makedirs(shp_chunk_folder)\n",
    "img_folder = md_folder + 'img/'\n",
    "if not os.path.exists(img_folder):\n",
    "    os.makedirs(img_folder)\n",
    "tif_folder = md_folder +  'tif/'\n",
    "if not os.path.exists(tif_folder):\n",
    "    os.makedirs(tif_folder)\n",
    "png_folder = md_folder +  'png/'\n",
    "if not os.path.exists(png_folder):\n",
    "    os.makedirs(png_folder)"
   ]
  },
  {
   "cell_type": "code",
   "execution_count": 8,
   "metadata": {},
   "outputs": [
    {
     "data": {
      "text/plain": [
       "'C:/Deepplanet/Oregon_Vineyards/Masks_for_Ira/'"
      ]
     },
     "execution_count": 8,
     "metadata": {},
     "output_type": "execute_result"
    }
   ],
   "source": [
    "md_folder"
   ]
  },
  {
   "cell_type": "code",
   "execution_count": null,
   "metadata": {},
   "outputs": [
    {
     "data": {
      "text/plain": [
       "6330"
      ]
     },
     "execution_count": 11,
     "metadata": {},
     "output_type": "execute_result"
    }
   ],
   "source": [
    "\n",
    "img_path = md_folder\n",
    "shape = glob.glob(md_folder)[0]\n",
    "input_shp = ogr.Open(r'path_to_your_shapefile_with_drawings.shp')\n",
    "in_layer = input_shp.GetLayer()\n",
    "in_layer_defn = in_layer.GetLayerDefn()\n",
    "in_layer.GetFeatureCount()"
   ]
  },
  {
   "cell_type": "code",
   "execution_count": null,
   "metadata": {},
   "outputs": [],
   "source": [
    "img_path = r'path_to_your_output_tif_files'"
   ]
  },
  {
   "cell_type": "code",
   "execution_count": null,
   "metadata": {},
   "outputs": [],
   "source": [
    "gdal.UseExceptions()\n",
    "\n",
    "img = gdal.Open(img_path+'name_of_the_black_white_mask.tif', gdal.GA_ReadOnly)\n",
    "img_arr = img.ReadAsArray()"
   ]
  },
  {
   "cell_type": "code",
   "execution_count": 92,
   "metadata": {},
   "outputs": [
    {
     "name": "stdout",
     "output_type": "stream",
     "text": [
      "Image number is:  6\n"
     ]
    }
   ],
   "source": [
    "img_name = os.path.split(img.GetDescription())[1]\n",
    "\n",
    "nm = img_name[0:2]\n",
    "try:\n",
    "    if isinstance(int(nm), int) == True:\n",
    "        counter = nm[:]\n",
    "    else:\n",
    "        counter = nm[1]\n",
    "except:\n",
    "    counter = nm[0]\n",
    "print('Image number is: ', counter)"
   ]
  },
  {
   "cell_type": "code",
   "execution_count": 93,
   "metadata": {},
   "outputs": [
    {
     "data": {
      "text/plain": [
       "'6_BILB2660.tif'"
      ]
     },
     "execution_count": 93,
     "metadata": {},
     "output_type": "execute_result"
    }
   ],
   "source": [
    "img_name"
   ]
  },
  {
   "cell_type": "code",
   "execution_count": 16,
   "metadata": {
    "scrolled": true
   },
   "outputs": [
    {
     "data": {
      "text/plain": [
       "'GEOGCS[\"WGS 84\",DATUM[\"WGS_1984\",SPHEROID[\"WGS 84\",6378137,298.257223563,AUTHORITY[\"EPSG\",\"7030\"]],AUTHORITY[\"EPSG\",\"6326\"]],PRIMEM[\"Greenwich\",0,AUTHORITY[\"EPSG\",\"8901\"]],UNIT[\"degree\",0.0174532925199433,AUTHORITY[\"EPSG\",\"9122\"]],AXIS[\"Latitude\",NORTH],AXIS[\"Longitude\",EAST],AUTHORITY[\"EPSG\",\"4326\"]]'"
      ]
     },
     "execution_count": 16,
     "metadata": {},
     "output_type": "execute_result"
    }
   ],
   "source": [
    "# Extract the SRS, coordinates and spatial resolution\n",
    "proj = img.GetProjectionRef()\n",
    "ext  = img.GetGeoTransform()\n",
    "proj"
   ]
  },
  {
   "cell_type": "code",
   "execution_count": 95,
   "metadata": {},
   "outputs": [
    {
     "data": {
      "text/plain": [
       "(146.1551078470608,\n",
       " 0.00010897718572105005,\n",
       " 0.0,\n",
       " -34.29727080001758,\n",
       " 0.0,\n",
       " -8.839969214145697e-05)"
      ]
     },
     "execution_count": 95,
     "metadata": {},
     "output_type": "execute_result"
    }
   ],
   "source": [
    "ext"
   ]
  },
  {
   "cell_type": "code",
   "execution_count": 96,
   "metadata": {},
   "outputs": [],
   "source": [
    "ext1  = ext[0], ext[1], ext[2], ext[3], ext[4], ext[5]\n",
    "#ext1  = ext[0], ext[1]/10, ext[2], ext[3], ext[4], ext[5]/10,"
   ]
  },
  {
   "cell_type": "code",
   "execution_count": 97,
   "metadata": {},
   "outputs": [
    {
     "data": {
      "text/plain": [
       "(146.1551078470608,\n",
       " 0.00010897718572105005,\n",
       " 0.0,\n",
       " -34.29727080001758,\n",
       " 0.0,\n",
       " -8.839969214145697e-05)"
      ]
     },
     "execution_count": 97,
     "metadata": {},
     "output_type": "execute_result"
    }
   ],
   "source": [
    "ext1"
   ]
  },
  {
   "cell_type": "code",
   "execution_count": 98,
   "metadata": {},
   "outputs": [
    {
     "data": {
      "text/plain": [
       "'6_BILB2660.tif'"
      ]
     },
     "execution_count": 98,
     "metadata": {},
     "output_type": "execute_result"
    }
   ],
   "source": [
    "img_name"
   ]
  },
  {
   "cell_type": "code",
   "execution_count": 99,
   "metadata": {},
   "outputs": [],
   "source": [
    "img_ncol = img_arr.shape[2]\n",
    "img_nrow = img_arr.shape[1]"
   ]
  },
  {
   "cell_type": "code",
   "execution_count": 100,
   "metadata": {},
   "outputs": [],
   "source": [
    "# Usage: set the path to your shp folder, either \"shp_chunks_folder\" or \"input_shp\"\n",
    "def vector2raster(input_shp, tree):\n",
    "    \n",
    "    \n",
    "    shp_name = os.path.split(input_shp.GetDescription())[1]\n",
    "    print(shp_name)\n",
    "    print(img_name)\n",
    "    # Let's open the shapefile with masked objects\n",
    "   \n",
    "    in_layer = input_shp.GetLayer()\n",
    "    in_layer_defn = in_layer.GetLayerDefn()\n",
    "    \n",
    "    if tree != 'ALL':\n",
    "        in_layer.SetAttributeFilter(f\"Class = '{tree}'\") # filter drawn shapefile objects by tree type if it is 'F' or 'NF'\n",
    "    else:\n",
    "        in_layer.SetAttributeFilter(f\"Type = '{tree}'\") # just create a mask for all trees\n",
    "    print(in_layer.GetFeatureCount())\n",
    "    \n",
    "    # Set the need pixel extent of your future raster mask, according to the image resolution\n",
    "    ulx, xres, uly, yres = ext[0], ext[1], ext[3], ext[5]\n",
    "    # Set the upper-left corner coordinates and a resolution of your future raster mask: y with minus sign\n",
    "\n",
    "    lrx = ulx + (img_ncol * xres)\n",
    "    lry = uly + (img_nrow * yres)\n",
    "    \n",
    "    bbox = (ulx, uly, lrx, lry)\n",
    "    \n",
    "    ext1  = ext[0], ext[1], ext[2], ext[3], ext[4], ext[5],\n",
    "    # Create an image subset\n",
    "    img_mask = gdal.Translate(img_folder + f'img_{shp_name[:-4]}_{counter}.tif', img, projWin = bbox)\n",
    "    # Create the template for the output mask geotif image\n",
    "    driver = gdal.GetDriverByName('GTiff')\n",
    "    out_raster_ds = driver.Create(tif_folder + f'mask_{shp_name[:-4]}_{tree}_{counter}.tif', img_ncol, img_nrow, 1, gdal.GDT_Byte)\n",
    "    out_raster_ds.SetProjection(proj)\n",
    "    out_raster_ds.SetGeoTransform(ext1)\n",
    "    nodata = out_raster_ds.GetRasterBand(1)\n",
    "    nodata.Fill(0)\n",
    "    # Rasterise our shapefile. It requires 1 and 0 values in Id_Copy column inside shapefile's attribute.\n",
    "    gdal.RasterizeLayer(out_raster_ds, [1], in_layer, None, None, [0], ['ALL_TOUCHED=False', 'ATTRIBUTE=Id_Copy'])\n",
    "    mask_coords = out_raster_ds.GetGeoTransform()\n",
    "    mask_raster = out_raster_ds\n",
    "    out_raster_ds = None\n",
    "    # Convert tif to 1-bit png mask\n",
    "    options_list = ['-co NBITS=1', '-ot Byte', '-of PNG']\n",
    "    options_string = \" \".join(options_list)\n",
    "    mask_png = gdal.Translate(png_folder + f'mask_{shp_name[:-4]}_{tree}_{counter}.png', mask_raster, options=options_string)\n",
    "    mask_raster = None\n",
    "    img_mask_name = os.path.split(img_mask.GetDescription())[1]\n",
    "    print(img_mask_name)\n",
    "    # Write the metadata for the png\n",
    "    with open(md_folder + 'MD.txt', 'a+') as md:\n",
    "        md.write(\"###\\nX, Y Coordinates and res in dd\\n\\n\")\n",
    "        md.write('###\\n'+f'mask_{shp_name[:-4]}_{tree}_{counter}.png'+'\\n')\n",
    "        md.write('\\n'+f'Covers the image {img_mask_name}'+'\\n\\n')\n",
    "        md.write(f\"ul = {ulx, uly}\\n\")\n",
    "        md.write(f\"lr = {lrx, lry}\\n\")\n",
    "        md.write(f\"x_res = {xres}, y_res = {yres}\\n###\")\n",
    "    print('...complete')"
   ]
  },
  {
   "cell_type": "code",
   "execution_count": 102,
   "metadata": {
    "scrolled": true
   },
   "outputs": [
    {
     "name": "stdout",
     "output_type": "stream",
     "text": [
      "Tree type:  Red\n",
      "vineyards_australia_grape_Riverina_combined_4326.geojson.shp\n",
      "6_BILB2660.tif\n",
      "1659\n",
      "img_vineyards_australia_grape_Riverina_combined_4326.geojson_6.tif\n",
      "...complete\n"
     ]
    }
   ],
   "source": [
    "# Usage: specify the path to your shp folder, either \"shp_chunks_folder\" or \"input_shp\". Specify the tree_types either 'ALL', 'F', 'NF'\n",
    "#tree_species = 'F'\n",
    "tree_species = 'Red'\n",
    "#tree_species = 'White'\n",
    "print('Tree type: ', tree_species)\n",
    "for i in os.listdir(md_folder):\n",
    "    #if i.endswith('.shp') and i.startswith('Mask_2022'):\n",
    "    #if i.endswith('.shp') and i.startswith('Mask'):\n",
    "    if i.endswith('.shp'):\n",
    "        vector2raster(input_shp, tree_species)"
   ]
  },
  {
   "cell_type": "code",
   "execution_count": null,
   "metadata": {},
   "outputs": [],
   "source": []
  },
  {
   "cell_type": "code",
   "execution_count": null,
   "metadata": {},
   "outputs": [],
   "source": []
  },
  {
   "cell_type": "code",
   "execution_count": null,
   "metadata": {},
   "outputs": [],
   "source": []
  },
  {
   "cell_type": "code",
   "execution_count": null,
   "metadata": {},
   "outputs": [],
   "source": []
  },
  {
   "cell_type": "code",
   "execution_count": null,
   "metadata": {},
   "outputs": [],
   "source": []
  },
  {
   "cell_type": "code",
   "execution_count": 17,
   "metadata": {},
   "outputs": [
    {
     "name": "stdout",
     "output_type": "stream",
     "text": [
      "Tree type:  ALL\n",
      "Red&White_visual_test.shp\n",
      "test1.tif\n",
      "8\n",
      "img_Red&White_visual_test_t.tif\n",
      "...complete\n"
     ]
    }
   ],
   "source": [
    "# Usage: specify the path to your shp folder, either \"shp_chunks_folder\" or \"input_shp\". Specify the tree_types either 'ALL', 'F', 'NF'\n",
    "tree_species = 'ALL'\n",
    "print('Tree type: ', tree_species)\n",
    "for i in os.listdir(md_folder):\n",
    "    #if i.endswith('.shp') and i.startswith('Mask_2022'):\n",
    "    #if i.endswith('.shp') and i.startswith('Mask'):\n",
    "    if i.endswith('.shp'):\n",
    "        vector2raster(input_shp, tree_species)"
   ]
  }
 ],
 "metadata": {
  "kernelspec": {
   "display_name": "Python 3 (ipykernel)",
   "language": "python",
   "name": "python3"
  },
  "language_info": {
   "codemirror_mode": {
    "name": "ipython",
    "version": 3
   },
   "file_extension": ".py",
   "mimetype": "text/x-python",
   "name": "python",
   "nbconvert_exporter": "python",
   "pygments_lexer": "ipython3",
   "version": "3.9.7"
  }
 },
 "nbformat": 4,
 "nbformat_minor": 2
}
